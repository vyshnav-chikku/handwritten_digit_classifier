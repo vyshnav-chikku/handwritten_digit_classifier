{
  "nbformat": 4,
  "nbformat_minor": 0,
  "metadata": {
    "colab": {
      "name": "handwritten_digits_classifier.ipynb",
      "provenance": [],
      "collapsed_sections": [],
      "authorship_tag": "ABX9TyN/0XpH22FDHQaa62CTt89l",
      "include_colab_link": true
    },
    "kernelspec": {
      "name": "python3",
      "display_name": "Python 3"
    }
  },
  "cells": [
    {
      "cell_type": "markdown",
      "metadata": {
        "id": "view-in-github",
        "colab_type": "text"
      },
      "source": [
        "<a href=\"https://colab.research.google.com/github/vyshnav-chikku/handwritten_digit_classifier/blob/master/handwritten_digits_classifier.ipynb\" target=\"_parent\"><img src=\"https://colab.research.google.com/assets/colab-badge.svg\" alt=\"Open In Colab\"/></a>"
      ]
    },
    {
      "cell_type": "code",
      "metadata": {
        "id": "gn_R-0-pHeHd",
        "colab_type": "code",
        "outputId": "ee9c334e-087c-4423-b632-b59e41a947b7",
        "colab": {
          "base_uri": "https://localhost:8080/",
          "height": 235
        }
      },
      "source": [
        "import os\n",
        "import tensorflow as tf\n",
        "from tensorflow import keras\n",
        "import keras.datasets.mnist as mn\n",
        "\n",
        "import numpy as  np\n",
        "import matplotlib.pyplot as plt\n",
        "%matplotlib inline\n",
        "\n",
        "(xtrain,ytrain),(xtest,ytest) = mn.load_data()\n",
        "\n",
        "labels = ['Zero','One','Two','Three','Four','Five','Six','Seven','Eight','Nine']\n",
        "\n",
        "xtrain=xtrain/255.0\n",
        "xtest=xtest/255.0\n",
        "\n",
        "model = keras.Sequential([keras.layers.Flatten(input_shape=(28,28)),\n",
        "                          keras.layers.Dense(128,activation='relu'),\n",
        "                          keras.layers.Dense(10,activation='softmax')])\n",
        "\n",
        "model.compile(optimizer='adam',loss='sparse_categorical_crossentropy',metrics=['accuracy'])\n",
        "\n",
        "#path = 'tr/cp.ckpt'\n",
        "#dir = os.path.dirname(path)\n",
        "\n",
        "#callback = tf.keras.callbacks.ModelCheckpoint(path,save_weights_only=True,verbose = 1)\n",
        "\n",
        "print('Training:') \n",
        "model.fit(xtrain,ytrain,epochs=4)\n",
        "\n",
        "\n"
      ],
      "execution_count": 1,
      "outputs": [
        {
          "output_type": "stream",
          "text": [
            "Using TensorFlow backend.\n"
          ],
          "name": "stderr"
        },
        {
          "output_type": "stream",
          "text": [
            "Downloading data from https://s3.amazonaws.com/img-datasets/mnist.npz\n",
            "11493376/11490434 [==============================] - 0s 0us/step\n",
            "Training:\n",
            "Epoch 1/4\n",
            "1875/1875 [==============================] - 4s 2ms/step - loss: 0.2542 - accuracy: 0.9278\n",
            "Epoch 2/4\n",
            "1875/1875 [==============================] - 3s 2ms/step - loss: 0.1120 - accuracy: 0.9662\n",
            "Epoch 3/4\n",
            "1875/1875 [==============================] - 4s 2ms/step - loss: 0.0756 - accuracy: 0.9772\n",
            "Epoch 4/4\n",
            "1875/1875 [==============================] - 3s 2ms/step - loss: 0.0567 - accuracy: 0.9827\n"
          ],
          "name": "stdout"
        },
        {
          "output_type": "execute_result",
          "data": {
            "text/plain": [
              "<tensorflow.python.keras.callbacks.History at 0x7fae41916048>"
            ]
          },
          "metadata": {
            "tags": []
          },
          "execution_count": 1
        }
      ]
    },
    {
      "cell_type": "code",
      "metadata": {
        "id": "5puV4NuFmvrQ",
        "colab_type": "code",
        "colab": {}
      },
      "source": [
        "tf.keras.models.save_model(model,'handwritten_digit_classification.h5')"
      ],
      "execution_count": 0,
      "outputs": []
    },
    {
      "cell_type": "code",
      "metadata": {
        "id": "2YAztdpHnb9Q",
        "colab_type": "code",
        "colab": {}
      },
      "source": [
        "new_model =tf.keras.models.load_model('handwritten_digit_classification.h5')"
      ],
      "execution_count": 0,
      "outputs": []
    },
    {
      "cell_type": "code",
      "metadata": {
        "id": "tKostbq6nvWT",
        "colab_type": "code",
        "outputId": "8bbc2014-a106-4b3f-8b20-6029311054be",
        "colab": {
          "base_uri": "https://localhost:8080/",
          "height": 50
        }
      },
      "source": [
        "new_model.evaluate(xtest,ytest,verbose=1)"
      ],
      "execution_count": 4,
      "outputs": [
        {
          "output_type": "stream",
          "text": [
            "313/313 [==============================] - 0s 1ms/step - loss: 0.0743 - accuracy: 0.9762\n"
          ],
          "name": "stdout"
        },
        {
          "output_type": "execute_result",
          "data": {
            "text/plain": [
              "[0.0742870569229126, 0.9761999845504761]"
            ]
          },
          "metadata": {
            "tags": []
          },
          "execution_count": 4
        }
      ]
    },
    {
      "cell_type": "code",
      "metadata": {
        "id": "avd2l5PsMYfv",
        "colab_type": "code",
        "outputId": "eafeeafb-a72b-4a0a-8de5-1f4f8464bf92",
        "colab": {
          "base_uri": "https://localhost:8080/",
          "height": 483
        }
      },
      "source": [
        "print('\\nEvaluation:')\n",
        "\n",
        "loss,accuracy = new_model.evaluate(xtest,ytest,verbose=1)\n",
        "\n",
        "print('\\n\\nPrediction\\n\\n')\n",
        "\n",
        "def get():\n",
        "    num = input('type a num:')\n",
        "    if num.isdigit():\n",
        "        num = int(num)\n",
        "        if 0<=num<10000:\n",
        "            return num\n",
        "        else:\n",
        "            print('out of range')\n",
        "    else:\n",
        "        print('Try again')\n",
        "\n",
        "def pred(model,img,labels):\n",
        "    \n",
        "    prediction = model.predict(np.array([img]))\n",
        "    index=np.argmax(prediction)\n",
        "    return labels[index]\n",
        "\n",
        "num =get()\n",
        "img=xtest[num]\n",
        "\n",
        "print('\\npredicted label:',pred(new_model,img,labels))\n",
        "print('\\nThe actual img:')\n",
        "plt.imshow(img)\n",
        "plt.show()\n",
        "\n",
        "\n"
      ],
      "execution_count": 5,
      "outputs": [
        {
          "output_type": "stream",
          "text": [
            "\n",
            "Evaluation:\n",
            "313/313 [==============================] - 0s 1ms/step - loss: 0.0743 - accuracy: 0.9762\n",
            "\n",
            "\n",
            "Prediction\n",
            "\n",
            "\n",
            "type a num:48\n",
            "\n",
            "predicted label: Four\n",
            "\n",
            "The actual img:\n"
          ],
          "name": "stdout"
        },
        {
          "output_type": "display_data",
          "data": {
            "image/png": "[encoded data removed]",
            "text/plain": [
              "<Figure size 432x288 with 1 Axes>"
            ]
          },
          "metadata": {
            "tags": [],
            "needs_background": "light"
          }
        }
      ]
    },
    {
      "cell_type": "code",
      "metadata": {
        "id": "Nk34tQeNoFME",
        "colab_type": "code",
        "colab": {}
      },
      "source": [
        ""
      ],
      "execution_count": 0,
      "outputs": []
    }
  ]
}