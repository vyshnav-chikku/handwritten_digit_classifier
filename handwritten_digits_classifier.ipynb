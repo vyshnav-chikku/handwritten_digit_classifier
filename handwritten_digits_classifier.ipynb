{
  "nbformat": 4,
  "nbformat_minor": 0,
  "metadata": {
    "colab": {
      "name": "handwritten_digits_classifier.ipynb",
      "provenance": [],
      "collapsed_sections": [],
      "authorship_tag": "ABX9TyPiyzNCHU6tOswtsN2KMKTy",
      "include_colab_link": true
    },
    "kernelspec": {
      "name": "python3",
      "display_name": "Python 3"
    }
  },
  "cells": [
    {
      "cell_type": "markdown",
      "metadata": {
        "id": "view-in-github",
        "colab_type": "text"
      },
      "source": [
        "<a href=\"https://colab.research.google.com/github/vyshnav-chikku/handwritten_digit_classifier/blob/master/handwritten_digits_classifier.ipynb\" target=\"_parent\"><img src=\"https://colab.research.google.com/assets/colab-badge.svg\" alt=\"Open In Colab\"/></a>"
      ]
    },
    {
      "cell_type": "code",
      "metadata": {
        "id": "gn_R-0-pHeHd",
        "colab_type": "code",
        "outputId": "f6278068-acc5-4819-c98d-4b39f9302ad3",
        "colab": {
          "base_uri": "https://localhost:8080/",
          "height": 208
        }
      },
      "source": [
        "import os\n",
        "import tensorflow as tf\n",
        "from tensorflow import keras\n",
        "import keras.datasets.mnist as mn\n",
        "\n",
        "import numpy as  np\n",
        "import matplotlib.pyplot as plt\n",
        "%matplotlib inline\n",
        "\n",
        "(xtrain,ytrain),(xtest,ytest) = mn.load_data()\n",
        "\n",
        "labels = ['Zero','One','Two','Three','Four','Five','Six','Seven','Eight','Nine']\n",
        "\n",
        "xtrain=xtrain/255.0\n",
        "xtest=xtest/255.0\n",
        "\n",
        "model = keras.Sequential([keras.layers.Flatten(input_shape=(28,28)),\n",
        "                          keras.layers.Dense(128,activation='relu'),\n",
        "                          keras.layers.Dense(10,activation='softmax')])\n",
        "\n",
        "model.compile(optimizer='adam',loss='sparse_categorical_crossentropy',metrics=['accuracy'])\n",
        "\n",
        "#path = 'tr/cp.ckpt'\n",
        "#dir = os.path.dirname(path)\n",
        "\n",
        "#callback = tf.keras.callbacks.ModelCheckpoint(path,save_weights_only=True,verbose = 1)\n",
        "\n",
        "print('Training:') \n",
        "model.fit(xtrain,ytrain,epochs=4)\n",
        "\n",
        "\n"
      ],
      "execution_count": 0,
      "outputs": [
        {
          "output_type": "stream",
          "text": [
            "Training:\n",
            "Epoch 1/4\n",
            "1875/1875 [==============================] - 3s 2ms/step - loss: 0.2612 - accuracy: 0.9256\n",
            "Epoch 2/4\n",
            "1875/1875 [==============================] - 3s 2ms/step - loss: 0.1146 - accuracy: 0.9657\n",
            "Epoch 3/4\n",
            "1875/1875 [==============================] - 3s 2ms/step - loss: 0.0781 - accuracy: 0.9767\n",
            "Epoch 4/4\n",
            "1875/1875 [==============================] - 3s 2ms/step - loss: 0.0588 - accuracy: 0.9821\n"
          ],
          "name": "stdout"
        },
        {
          "output_type": "execute_result",
          "data": {
            "text/plain": [
              "<tensorflow.python.keras.callbacks.History at 0x7fbb888fcb38>"
            ]
          },
          "metadata": {
            "tags": []
          },
          "execution_count": 9
        }
      ]
    },
    {
      "cell_type": "code",
      "metadata": {
        "id": "KVYp4HlQfDDI",
        "colab_type": "code",
        "colab": {}
      },
      "source": [
        "from google.colab import drive\n",
        "drive.mount('/content/drive')"
      ],
      "execution_count": 0,
      "outputs": []
    },
    {
      "cell_type": "code",
      "metadata": {
        "id": "5puV4NuFmvrQ",
        "colab_type": "code",
        "colab": {}
      },
      "source": [
        "tf.keras.models.save_model(model,'content/New/Nn/handwritten_digit_classification.h5')"
      ],
      "execution_count": 0,
      "outputs": []
    },
    {
      "cell_type": "code",
      "metadata": {
        "id": "2YAztdpHnb9Q",
        "colab_type": "code",
        "colab": {}
      },
      "source": [
        "new_model tf.keras.models.load_model('/content/New/Nn/handwritten_digit_classification.h5')"
      ],
      "execution_count": 0,
      "outputs": []
    },
    {
      "cell_type": "code",
      "metadata": {
        "id": "7b5dhtoJgwqY",
        "colab_type": "code",
        "colab": {}
      },
      "source": [
        "tf.keras.models.save_model(model,'/content/New/Nn/han.h5')"
      ],
      "execution_count": 0,
      "outputs": []
    },
    {
      "cell_type": "code",
      "metadata": {
        "id": "tKostbq6nvWT",
        "colab_type": "code",
        "outputId": "f2d8627d-3b0f-4f43-e702-06153eccd81a",
        "colab": {
          "base_uri": "https://localhost:8080/",
          "height": 51
        }
      },
      "source": [
        "new_model.evaluate(xtest,ytest,verbose=1)"
      ],
      "execution_count": 0,
      "outputs": [
        {
          "output_type": "stream",
          "text": [
            "313/313 [==============================] - 0s 1ms/step - loss: 0.0869 - accuracy: 0.9718\n"
          ],
          "name": "stdout"
        },
        {
          "output_type": "execute_result",
          "data": {
            "text/plain": [
              "[0.0868578553199768, 0.9718000292778015]"
            ]
          },
          "metadata": {
            "tags": []
          },
          "execution_count": 5
        }
      ]
    },
    {
      "cell_type": "code",
      "metadata": {
        "id": "tqa9Ugw3nvMR",
        "colab_type": "code",
        "colab": {}
      },
      "source": [
        ""
      ],
      "execution_count": 0,
      "outputs": []
    },
    {
      "cell_type": "code",
      "metadata": {
        "id": "rzW0s6QguUQ5",
        "colab_type": "code",
        "outputId": "1a3f50e4-dd93-4f6c-8ffa-ab6f911dd97b",
        "colab": {
          "base_uri": "https://localhost:8080/",
          "height": 35
        }
      },
      "source": [
        "!ls dir"
      ],
      "execution_count": 0,
      "outputs": [
        {
          "output_type": "stream",
          "text": [
            "ls: cannot access 'dir': No such file or directory\n"
          ],
          "name": "stdout"
        }
      ]
    },
    {
      "cell_type": "code",
      "metadata": {
        "id": "avd2l5PsMYfv",
        "colab_type": "code",
        "outputId": "07e1e691-8c48-4c1d-f3ea-c24caa2bd20a",
        "colab": {
          "base_uri": "https://localhost:8080/",
          "height": 487
        }
      },
      "source": [
        "print('\\nEvaluation:')\n",
        "\n",
        "loss,accuracy = new_model.evaluate(xtest,ytest,verbose=1)\n",
        "\n",
        "print('\\n\\nPrediction\\n\\n')\n",
        "\n",
        "def get():\n",
        "    num = input('type a num:')\n",
        "    if num.isdigit():\n",
        "        num = int(num)\n",
        "        if 0<=num<10000:\n",
        "            return num\n",
        "        else:\n",
        "            print('out of range')\n",
        "    else:\n",
        "        print('Try again')\n",
        "\n",
        "def pred(model,img,labels):\n",
        "    \n",
        "    prediction = model.predict(np.array([img]))\n",
        "    index=np.argmax(prediction)\n",
        "    return labels[index]\n",
        "\n",
        "num =get()\n",
        "img=xtest[num]\n",
        "\n",
        "print('\\npredicted label:',pred(new_model,img,labels))\n",
        "print('\\nThe actual img:')\n",
        "plt.imshow(img)\n",
        "plt.show()\n",
        "\n",
        "\n"
      ],
      "execution_count": 0,
      "outputs": [
        {
          "output_type": "stream",
          "text": [
            "\n",
            "Evaluation:\n",
            "313/313 [==============================] - 0s 1ms/step - loss: 0.0869 - accuracy: 0.9718\n",
            "\n",
            "\n",
            "Prediction\n",
            "\n",
            "\n",
            "type a num:56\n",
            "\n",
            "predicted label: Four\n",
            "\n",
            "The actual img:\n"
          ],
          "name": "stdout"
        },
        {
          "output_type": "display_data",
          "data": {
            "image/png": "[encoded data removed]",
            "text/plain": [
              "<Figure size 432x288 with 1 Axes>"
            ]
          },
          "metadata": {
            "tags": [],
            "needs_background": "light"
          }
        }
      ]
    },
    {
      "cell_type": "code",
      "metadata": {
        "id": "Nk34tQeNoFME",
        "colab_type": "code",
        "colab": {}
      },
      "source": [
        ""
      ],
      "execution_count": 0,
      "outputs": []
    }
  ]
}